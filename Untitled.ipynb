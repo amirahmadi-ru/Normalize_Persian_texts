{
 "cells": [
  {
   "cell_type": "code",
   "execution_count": 1,
   "id": "2ea691d3",
   "metadata": {},
   "outputs": [],
   "source": [
    "import re"
   ]
  },
  {
   "cell_type": "code",
   "execution_count": null,
   "id": "3fbfab17",
   "metadata": {},
   "outputs": [],
   "source": []
  },
  {
   "cell_type": "code",
   "execution_count": 4,
   "id": "a06e3ba5",
   "metadata": {},
   "outputs": [
    {
     "name": "stdout",
     "output_type": "stream",
     "text": [
      "ada    ad a   as\n"
     ]
    },
    {
     "data": {
      "text/plain": [
       "'ada ad a as'"
      ]
     },
     "execution_count": 4,
     "metadata": {},
     "output_type": "execute_result"
    }
   ],
   "source": [
    "i = input()\n",
    "\n",
    "def normalize_spaces(i):\n",
    "#     i = i.replace(\"\\n\", \" \").replace(\"\\t\", \" \")\n",
    "#     i = re.sub('\\n*',' ',i)\n",
    "    i = re.sub('  *',' ',i)\n",
    "    i = re.sub('   *',' ',i)\n",
    "    i = re.sub('    *',' ',i)\n",
    "    return i\n",
    "    \n",
    "normalize_spaces(i)"
   ]
  },
  {
   "cell_type": "code",
   "execution_count": null,
   "id": "b31203bb",
   "metadata": {},
   "outputs": [],
   "source": []
  }
 ],
 "metadata": {
  "kernelspec": {
   "display_name": "Python 3 (ipykernel)",
   "language": "python",
   "name": "python3"
  },
  "language_info": {
   "codemirror_mode": {
    "name": "ipython",
    "version": 3
   },
   "file_extension": ".py",
   "mimetype": "text/x-python",
   "name": "python",
   "nbconvert_exporter": "python",
   "pygments_lexer": "ipython3",
   "version": "3.9.7"
  }
 },
 "nbformat": 4,
 "nbformat_minor": 5
}
